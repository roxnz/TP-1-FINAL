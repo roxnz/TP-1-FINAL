{
 "cells": [
  {
   "cell_type": "code",
   "execution_count": 52,
   "id": "7968f57e-fbf2-4413-a9b0-99c695c95a0a",
   "metadata": {},
   "outputs": [],
   "source": [
    "import math #Importamos líbreria Math para poder usar raiz cuadrada\n",
    "\n",
    "#definimos nuestra función\n",
    "\n",
    "def primo():\n",
    "  num = int(input(\"Ingrese un número: \")) #pedimos input\n",
    "  if num == 1:\n",
    "        return (\"El nro primo en la posicion 1 es: 2\")\n",
    " #descartamos la primer posición que es 2, ya que es par y sino la fórmula lo saltearía       \n",
    "  cont = 1\n",
    "  nprimo = 1\n",
    "#comenzamos contadores desde 1, cont es el contador de numeros primos, nprimo va a ser el num que va a ir aumentando hasta llegar a nuestro número primo\n",
    "  while cont < num: #se inicia bucle que corre hasta que el contador llegue al num input\n",
    "      nprimo += 1 #se agrega 1 cada vez que corre el bucle\n",
    "      raizcuadrada = int(math.sqrt(nprimo)) #se hace hasta raiz cuadrada porque permite descartar todos los divisores     \n",
    "      if nprimo % 2 == 0:\n",
    "          continue #lo que se busca es que si el número es par, automaticamente vuelva a correr el bucle\n",
    "      es_primo = True #es una bandera (booleana) sirve para decir que asumimos que si es impar es primo\n",
    "      for n in range(2, raizcuadrada + 1):\n",
    "          if nprimo % n == 0:\n",
    "              es_primo = False\n",
    "              break # si el numero es impar pero divisible por cualquier otro divisor que no sea 1 o sí mismo, se rompe el bucle y se indica que no es primo (false)\n",
    "      if es_primo:\n",
    "          cont += 1\n",
    "#si continua significa que el número efectivamente es primo, se suma 1 al contador y vuelve a correr el bucle\n",
    "  print(\"El nro primo en la posicion\", num, \"es:\", nprimo)\n",
    "    #pedimos que imprima el último nprimo que llego a correr antes de que el bucle termine"
   ]
  },
  {
   "cell_type": "code",
   "execution_count": 54,
   "id": "f0b3975a-98a3-44e2-9a89-ceee48cae505",
   "metadata": {},
   "outputs": [
    {
     "name": "stdin",
     "output_type": "stream",
     "text": [
      "Ingrese un número  15\n"
     ]
    },
    {
     "name": "stdout",
     "output_type": "stream",
     "text": [
      "El nro primo en la posicion 15 es: 47\n"
     ]
    }
   ],
   "source": [
    "primo()"
   ]
  },
  {
   "cell_type": "code",
   "execution_count": null,
   "id": "cb5ebd6e-3909-4da8-a492-79ba1562c43d",
   "metadata": {},
   "outputs": [],
   "source": []
  }
 ],
 "metadata": {
  "kernelspec": {
   "display_name": "Python 3 (ipykernel)",
   "language": "python",
   "name": "python3"
  },
  "language_info": {
   "codemirror_mode": {
    "name": "ipython",
    "version": 3
   },
   "file_extension": ".py",
   "mimetype": "text/x-python",
   "name": "python",
   "nbconvert_exporter": "python",
   "pygments_lexer": "ipython3",
   "version": "3.12.4"
  }
 },
 "nbformat": 4,
 "nbformat_minor": 5
}
